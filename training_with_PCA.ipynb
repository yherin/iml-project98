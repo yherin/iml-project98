{
 "cells": [
  {
   "cell_type": "code",
   "execution_count": 8,
   "id": "b3db9e92",
   "metadata": {},
   "outputs": [],
   "source": [
    "import numpy as np\n",
    "import pandas as pd\n",
    "#import plotly.express as px\n",
    "\n",
    "from sklearn.decomposition import PCA\n",
    "import matplotlib.pyplot as plt\n",
    "from sklearn.preprocessing import StandardScaler\n",
    "from sklearn.linear_model import LogisticRegression\n",
    "from sklearn import svm\n",
    "from project_utils import runModel, split_and_scale, Read_data_output_class2_or_testdata,training_with_PCA,split_training_validate,scaling"
   ]
  },
  {
   "cell_type": "code",
   "execution_count": 9,
   "id": "5db593e5",
   "metadata": {},
   "outputs": [
    {
     "name": "stdout",
     "output_type": "stream",
     "text": [
      "validate score  0.9082969432314411\n"
     ]
    }
   ],
   "source": [
    "[x,y] = Read_data_output_class2_or_testdata(binary=True, training_data=True, filename = \"npf_train.csv\")\n",
    "[x1,y1] = Read_data_output_class2_or_testdata(binary=False, training_data=False, filename = \"npf_test_hidden.csv\")\n",
    "x = scaling(x)\n",
    "#x_PCA = training_with_PCA(x,15)\n",
    "[x_PCA, pca] = training_with_PCA(x)\n",
    "scaler = StandardScaler()\n",
    "scaler.fit(x)\n",
    "x = scaler.transform(x)\n",
    "[x_train, y_train, x_val, y_val] = split_training_validate(x, y, 200)\n",
    "\n",
    "\n",
    "exp_var_cumul = np.cumsum(pca.explained_variance_ratio_)\n",
    "##This will open on browser, is more interactive\n",
    "#fig = px.area(\n",
    "#    x=range(1, exp_var_cumul.shape[0] + 1),\n",
    "#    y=exp_var_cumul,\n",
    "#    labels={\"x\": \"# Components\", \"y\": \"Explained Variance\"}\n",
    "#)\n",
    "#fig.show()\n",
    "##\n",
    "\n",
    "##########################SVM################3\n",
    "regr_SVM = svm.SVC(kernel = 'rbf')\n",
    "regr_SVM.fit(x_PCA, y)\n",
    "y_training_pred_SVM = regr_SVM.predict(x_PCA)\n",
    "print('validate score ',regr_SVM.score(x_PCA ,y))\n"
   ]
  },
  {
   "cell_type": "code",
   "execution_count": null,
   "id": "954ac578",
   "metadata": {},
   "outputs": [],
   "source": []
  }
 ],
 "metadata": {
  "kernelspec": {
   "display_name": "Python 3",
   "language": "python",
   "name": "python3"
  },
  "language_info": {
   "codemirror_mode": {
    "name": "ipython",
    "version": 3
   },
   "file_extension": ".py",
   "mimetype": "text/x-python",
   "name": "python",
   "nbconvert_exporter": "python",
   "pygments_lexer": "ipython3",
   "version": "3.8.8"
  }
 },
 "nbformat": 4,
 "nbformat_minor": 5
}
