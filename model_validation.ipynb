{
 "cells": [
  {
   "cell_type": "code",
   "execution_count": 6,
   "metadata": {},
   "outputs": [],
   "source": [
    "import pandas as pd\n",
    "import numpy as np\n",
    "import pickle\n",
    "from matplotlib import pyplot as plt\n",
    "from sklearn.ensemble import RandomForestClassifier\n",
    "from sklearn.linear_model import LogisticRegressionCV\n",
    "from sklearn.naive_bayes import GaussianNB\n",
    "from sklearn.svm import SVC\n",
    "from sklearn.neighbors import KNeighborsClassifier\n",
    "from sklearn.preprocessing import StandardScaler\n",
    "from sklearn.model_selection import train_test_split\n",
    "from project_utils import runModel, split_and_scale, Read_data_output_class2_or_testdata,training_with_PCA,split_training_validate,scaling\n",
    "#from project_utils import runModel, split_and_scale\n",
    "#np.random.seed(42)"
   ]
  },
  {
   "cell_type": "code",
   "execution_count": 7,
   "metadata": {},
   "outputs": [],
   "source": [
    "#Set data for binary classification\n",
    "\n",
    "#tdf = pd.read_csv('npf_train.csv')\n",
    "#tdf = tdf.drop(columns=['date', 'id', 'partlybad'])\n",
    "#tdf['class2'] = (tdf['class4'] == 'nonevent').astype(int)\n",
    "#xdf = tdf.drop(columns=['class4', 'class2'])\n",
    "#ydf = tdf['class2']\n",
    "\n",
    "\n",
    "[x,y] = Read_data_output_class2_or_testdata(binary=True, training_data=True, filename = \"npf_train.csv\")\n",
    "[x_test,y_test] = Read_data_output_class2_or_testdata(binary=False, training_data=False, filename = \"npf_test_hidden.csv\")\n",
    "\n",
    "PCA_num = 30\n",
    "x = scaling(x)\n",
    "[x_PCA, pca] = training_with_PCA(x,PCA_num)\n",
    "[x_train, x_val, y_train, y_val] = train_test_split(x_PCA, y, test_size=0.33)\n"
   ]
  },
  {
   "cell_type": "code",
   "execution_count": 8,
   "metadata": {},
   "outputs": [],
   "source": [
    "#Define your model parametrs here and add them to the list\n",
    "\n",
    "rf = RandomForestClassifier(n_estimators=1000, random_state=42, class_weight={1: 0.55, 0:0.45}, min_samples_leaf=5, min_samples_split=5)\n",
    "lr = LogisticRegressionCV(max_iter=1000)\n",
    "nb = GaussianNB()\n",
    "svm = SVC(probability=True)\n",
    "knn = KNeighborsClassifier(n_neighbors=5)\n",
    "#xcols = xdf.columns\n",
    "\n",
    "models = [rf, lr, nb, svm, knn]"
   ]
  },
  {
   "cell_type": "code",
   "execution_count": 9,
   "metadata": {},
   "outputs": [],
   "source": [
    "#Run the models and get the results\n",
    "measures = [runModel(m, x_train, x_val, y_train, y_val) for m in models]\n",
    "#measures = [runModel(m, *split_and_scale(xdf, ydf)) for m in models]\n",
    "results = pd.DataFrame(measures, columns=['Name', 'Train Accuracy', 'Train Perplex', 'Valid Accuracy', 'Valid Perplex'])"
   ]
  },
  {
   "cell_type": "code",
   "execution_count": 10,
   "metadata": {},
   "outputs": [
    {
     "data": {
      "text/html": [
       "<div>\n",
       "<style scoped>\n",
       "    .dataframe tbody tr th:only-of-type {\n",
       "        vertical-align: middle;\n",
       "    }\n",
       "\n",
       "    .dataframe tbody tr th {\n",
       "        vertical-align: top;\n",
       "    }\n",
       "\n",
       "    .dataframe thead th {\n",
       "        text-align: right;\n",
       "    }\n",
       "</style>\n",
       "<table border=\"1\" class=\"dataframe\">\n",
       "  <thead>\n",
       "    <tr style=\"text-align: right;\">\n",
       "      <th></th>\n",
       "      <th>Name</th>\n",
       "      <th>Train Accuracy</th>\n",
       "      <th>Train Perplex</th>\n",
       "      <th>Valid Accuracy</th>\n",
       "      <th>Valid Perplex</th>\n",
       "    </tr>\n",
       "  </thead>\n",
       "  <tbody>\n",
       "    <tr>\n",
       "      <th>0</th>\n",
       "      <td>RandomForestClassifier</td>\n",
       "      <td>0.980392</td>\n",
       "      <td>1.332003</td>\n",
       "      <td>0.881579</td>\n",
       "      <td>1.501790</td>\n",
       "    </tr>\n",
       "    <tr>\n",
       "      <th>1</th>\n",
       "      <td>LogisticRegressionCV</td>\n",
       "      <td>0.859477</td>\n",
       "      <td>1.367473</td>\n",
       "      <td>0.894737</td>\n",
       "      <td>1.291258</td>\n",
       "    </tr>\n",
       "    <tr>\n",
       "      <th>2</th>\n",
       "      <td>GaussianNB</td>\n",
       "      <td>0.725490</td>\n",
       "      <td>2.183541</td>\n",
       "      <td>0.796053</td>\n",
       "      <td>2.809560</td>\n",
       "    </tr>\n",
       "    <tr>\n",
       "      <th>3</th>\n",
       "      <td>SVC</td>\n",
       "      <td>0.892157</td>\n",
       "      <td>1.320384</td>\n",
       "      <td>0.907895</td>\n",
       "      <td>1.285279</td>\n",
       "    </tr>\n",
       "    <tr>\n",
       "      <th>4</th>\n",
       "      <td>KNeighborsClassifier</td>\n",
       "      <td>0.872549</td>\n",
       "      <td>1.337498</td>\n",
       "      <td>0.855263</td>\n",
       "      <td>2.049944</td>\n",
       "    </tr>\n",
       "  </tbody>\n",
       "</table>\n",
       "</div>"
      ],
      "text/plain": [
       "                     Name  Train Accuracy  Train Perplex  Valid Accuracy  \\\n",
       "0  RandomForestClassifier        0.980392       1.332003        0.881579   \n",
       "1    LogisticRegressionCV        0.859477       1.367473        0.894737   \n",
       "2              GaussianNB        0.725490       2.183541        0.796053   \n",
       "3                     SVC        0.892157       1.320384        0.907895   \n",
       "4    KNeighborsClassifier        0.872549       1.337498        0.855263   \n",
       "\n",
       "   Valid Perplex  \n",
       "0       1.501790  \n",
       "1       1.291258  \n",
       "2       2.809560  \n",
       "3       1.285279  \n",
       "4       2.049944  "
      ]
     },
     "execution_count": 10,
     "metadata": {},
     "output_type": "execute_result"
    }
   ],
   "source": [
    "#Show results\n",
    "results.head(len(models))"
   ]
  },
  {
   "cell_type": "code",
   "execution_count": null,
   "metadata": {},
   "outputs": [],
   "source": []
  }
 ],
 "metadata": {
  "interpreter": {
   "hash": "3d23aba09bd39f2ca8f4a496e1622c5c2152a7ccfc6ac379d76aa6c7e2b4afec"
  },
  "kernelspec": {
   "display_name": "Python 3",
   "language": "python",
   "name": "python3"
  },
  "language_info": {
   "codemirror_mode": {
    "name": "ipython",
    "version": 3
   },
   "file_extension": ".py",
   "mimetype": "text/x-python",
   "name": "python",
   "nbconvert_exporter": "python",
   "pygments_lexer": "ipython3",
   "version": "3.8.8"
  }
 },
 "nbformat": 4,
 "nbformat_minor": 2
}
