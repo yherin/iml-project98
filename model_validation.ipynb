{
 "cells": [
  {
   "cell_type": "code",
   "execution_count": 35,
   "metadata": {},
   "outputs": [],
   "source": [
    "import pandas as pd\n",
    "import numpy as np\n",
    "import pickle\n",
    "from matplotlib import pyplot as plt\n",
    "from sklearn.ensemble import RandomForestClassifier\n",
    "from sklearn.linear_model import LogisticRegressionCV\n",
    "from sklearn.naive_bayes import GaussianNB\n",
    "from sklearn.svm import SVC\n",
    "from sklearn.neighbors import KNeighborsClassifier\n",
    "from sklearn.preprocessing import StandardScaler\n",
    "from sklearn.model_selection import train_test_split\n",
    "from project_utils import runModel, split_and_scale, Read_data_output_class2_or_testdata,training_with_PCA,split_training_validate,scaling\n",
    "#from project_utils import runModel, split_and_scale\n",
    "#np.random.seed(42)"
   ]
  },
  {
   "cell_type": "code",
   "execution_count": 36,
   "metadata": {},
   "outputs": [],
   "source": [
    "#Set data for binary classification\n",
    "\n",
    "#tdf = pd.read_csv('npf_train.csv')\n",
    "#tdf = tdf.drop(columns=['date', 'id', 'partlybad'])\n",
    "#tdf['class2'] = (tdf['class4'] == 'nonevent').astype(int)\n",
    "#xdf = tdf.drop(columns=['class4', 'class2'])\n",
    "#ydf = tdf['class2']\n",
    "\n",
    "\n",
    "[x,y] = Read_data_output_class2_or_testdata(binary=True, training_data=True, filename = \"npf_train.csv\")\n",
    "[x_test,y_test] = Read_data_output_class2_or_testdata(binary=False, training_data=False, filename = \"npf_test_hidden.csv\")\n",
    "\n",
    "PCA_num = 15\n",
    "x = scaling(x)\n",
    "[x_PCA, pca] = training_with_PCA(x,PCA_num)\n",
    "[x_train, x_val, y_train, y_val] = train_test_split(x_PCA, y, test_size=0.33)\n"
   ]
  },
  {
   "cell_type": "code",
   "execution_count": 41,
   "metadata": {},
   "outputs": [],
   "source": [
    "#Define your model parametrs here and add them to the list\n",
    "\n",
    "rf = RandomForestClassifier(n_estimators=1000, random_state=42, class_weight={1: 0.55, 0:0.45}, min_samples_leaf=5, min_samples_split=5)\n",
    "lr = LogisticRegressionCV(max_iter=1000)\n",
    "nb = GaussianNB()\n",
    "svm = SVC(probability=True)\n",
    "knn = KNeighborsClassifier(n_neighbors=5)\n",
    "#xcols = xdf.columns\n",
    "\n",
    "models = [rf, lr, nb, svm, knn]"
   ]
  },
  {
   "cell_type": "code",
   "execution_count": 42,
   "metadata": {},
   "outputs": [
    {
     "ename": "TypeError",
     "evalue": "perplexity() missing 1 required positional argument: 'y_prob'",
     "output_type": "error",
     "traceback": [
      "\u001b[1;31m---------------------------------------------------------------------------\u001b[0m",
      "\u001b[1;31mTypeError\u001b[0m                                 Traceback (most recent call last)",
      "\u001b[1;32m<ipython-input-42-344d0a4322f9>\u001b[0m in \u001b[0;36m<module>\u001b[1;34m\u001b[0m\n\u001b[0;32m      1\u001b[0m \u001b[1;31m#Run the models and get the results\u001b[0m\u001b[1;33m\u001b[0m\u001b[1;33m\u001b[0m\u001b[1;33m\u001b[0m\u001b[0m\n\u001b[1;32m----> 2\u001b[1;33m \u001b[0mmeasures\u001b[0m \u001b[1;33m=\u001b[0m \u001b[1;33m[\u001b[0m\u001b[0mrunModel\u001b[0m\u001b[1;33m(\u001b[0m\u001b[0mm\u001b[0m\u001b[1;33m,\u001b[0m \u001b[0mx_train\u001b[0m\u001b[1;33m,\u001b[0m \u001b[0mx_val\u001b[0m\u001b[1;33m,\u001b[0m \u001b[0my_train\u001b[0m\u001b[1;33m,\u001b[0m \u001b[0my_val\u001b[0m\u001b[1;33m)\u001b[0m \u001b[1;32mfor\u001b[0m \u001b[0mm\u001b[0m \u001b[1;32min\u001b[0m \u001b[0mmodels\u001b[0m\u001b[1;33m]\u001b[0m\u001b[1;33m\u001b[0m\u001b[1;33m\u001b[0m\u001b[0m\n\u001b[0m\u001b[0;32m      3\u001b[0m \u001b[1;31m#measures = [runModel(m, *split_and_scale(xdf, ydf)) for m in models]\u001b[0m\u001b[1;33m\u001b[0m\u001b[1;33m\u001b[0m\u001b[1;33m\u001b[0m\u001b[0m\n\u001b[0;32m      4\u001b[0m \u001b[1;31m#results = pd.DataFrame(measures, columns=['Name', 'Train Accuracy', 'Train Perplex', 'Valid Accuracy', 'Valid Perplex'])\u001b[0m\u001b[1;33m\u001b[0m\u001b[1;33m\u001b[0m\u001b[1;33m\u001b[0m\u001b[0m\n",
      "\u001b[1;32m<ipython-input-42-344d0a4322f9>\u001b[0m in \u001b[0;36m<listcomp>\u001b[1;34m(.0)\u001b[0m\n\u001b[0;32m      1\u001b[0m \u001b[1;31m#Run the models and get the results\u001b[0m\u001b[1;33m\u001b[0m\u001b[1;33m\u001b[0m\u001b[1;33m\u001b[0m\u001b[0m\n\u001b[1;32m----> 2\u001b[1;33m \u001b[0mmeasures\u001b[0m \u001b[1;33m=\u001b[0m \u001b[1;33m[\u001b[0m\u001b[0mrunModel\u001b[0m\u001b[1;33m(\u001b[0m\u001b[0mm\u001b[0m\u001b[1;33m,\u001b[0m \u001b[0mx_train\u001b[0m\u001b[1;33m,\u001b[0m \u001b[0mx_val\u001b[0m\u001b[1;33m,\u001b[0m \u001b[0my_train\u001b[0m\u001b[1;33m,\u001b[0m \u001b[0my_val\u001b[0m\u001b[1;33m)\u001b[0m \u001b[1;32mfor\u001b[0m \u001b[0mm\u001b[0m \u001b[1;32min\u001b[0m \u001b[0mmodels\u001b[0m\u001b[1;33m]\u001b[0m\u001b[1;33m\u001b[0m\u001b[1;33m\u001b[0m\u001b[0m\n\u001b[0m\u001b[0;32m      3\u001b[0m \u001b[1;31m#measures = [runModel(m, *split_and_scale(xdf, ydf)) for m in models]\u001b[0m\u001b[1;33m\u001b[0m\u001b[1;33m\u001b[0m\u001b[1;33m\u001b[0m\u001b[0m\n\u001b[0;32m      4\u001b[0m \u001b[1;31m#results = pd.DataFrame(measures, columns=['Name', 'Train Accuracy', 'Train Perplex', 'Valid Accuracy', 'Valid Perplex'])\u001b[0m\u001b[1;33m\u001b[0m\u001b[1;33m\u001b[0m\u001b[1;33m\u001b[0m\u001b[0m\n",
      "\u001b[1;32m~\\Documents\\Repositories\\ML1_project\\iml-project98\\project_utils.py\u001b[0m in \u001b[0;36mrunModel\u001b[1;34m(model, x_train, x_valid, y_train, y_valid)\u001b[0m\n\u001b[0;32m     44\u001b[0m         \u001b[1;31m#probs_train = model.predict_log_proba(x_train)\u001b[0m\u001b[1;33m\u001b[0m\u001b[1;33m\u001b[0m\u001b[1;33m\u001b[0m\u001b[0m\n\u001b[0;32m     45\u001b[0m         \u001b[1;31m#probs_valid = model.predict_log_proba(x_valid)\u001b[0m\u001b[1;33m\u001b[0m\u001b[1;33m\u001b[0m\u001b[1;33m\u001b[0m\u001b[0m\n\u001b[1;32m---> 46\u001b[1;33m         \u001b[0mprobs_train\u001b[0m \u001b[1;33m=\u001b[0m \u001b[0mmodel\u001b[0m\u001b[1;33m.\u001b[0m\u001b[0mpredict_proba\u001b[0m\u001b[1;33m(\u001b[0m\u001b[0mx_train\u001b[0m\u001b[1;33m)\u001b[0m\u001b[1;33m\u001b[0m\u001b[1;33m\u001b[0m\u001b[0m\n\u001b[0m\u001b[0;32m     47\u001b[0m         \u001b[0mprobs_valid\u001b[0m \u001b[1;33m=\u001b[0m \u001b[0mmodel\u001b[0m\u001b[1;33m.\u001b[0m\u001b[0mpredict_proba\u001b[0m\u001b[1;33m(\u001b[0m\u001b[0mx_valid\u001b[0m\u001b[1;33m)\u001b[0m\u001b[1;33m\u001b[0m\u001b[1;33m\u001b[0m\u001b[0m\n\u001b[0;32m     48\u001b[0m         \u001b[0mperplex_train\u001b[0m \u001b[1;33m=\u001b[0m \u001b[0mperplexity\u001b[0m\u001b[1;33m(\u001b[0m\u001b[0my_train\u001b[0m\u001b[1;33m,\u001b[0m \u001b[0mprobs_train\u001b[0m\u001b[1;33m)\u001b[0m\u001b[1;33m\u001b[0m\u001b[1;33m\u001b[0m\u001b[0m\n",
      "\u001b[1;31mTypeError\u001b[0m: perplexity() missing 1 required positional argument: 'y_prob'"
     ]
    }
   ],
   "source": [
    "#Run the models and get the results\n",
    "measures = [runModel(m, x_train, x_val, y_train, y_val) for m in models]\n",
    "#measures = [runModel(m, *split_and_scale(xdf, ydf)) for m in models]\n",
    "#results = pd.DataFrame(measures, columns=['Name', 'Train Accuracy', 'Train Perplex', 'Valid Accuracy', 'Valid Perplex'])"
   ]
  },
  {
   "cell_type": "code",
   "execution_count": 5,
   "metadata": {},
   "outputs": [
    {
     "data": {
      "text/html": [
       "<div>\n",
       "<style scoped>\n",
       "    .dataframe tbody tr th:only-of-type {\n",
       "        vertical-align: middle;\n",
       "    }\n",
       "\n",
       "    .dataframe tbody tr th {\n",
       "        vertical-align: top;\n",
       "    }\n",
       "\n",
       "    .dataframe thead th {\n",
       "        text-align: right;\n",
       "    }\n",
       "</style>\n",
       "<table border=\"1\" class=\"dataframe\">\n",
       "  <thead>\n",
       "    <tr style=\"text-align: right;\">\n",
       "      <th></th>\n",
       "      <th>Name</th>\n",
       "      <th>Train Accuracy</th>\n",
       "      <th>Train Perplex</th>\n",
       "      <th>Valid Accuracy</th>\n",
       "      <th>Valid Perplex</th>\n",
       "    </tr>\n",
       "  </thead>\n",
       "  <tbody>\n",
       "    <tr>\n",
       "      <th>0</th>\n",
       "      <td>RandomForestClassifier</td>\n",
       "      <td>0.947712</td>\n",
       "      <td>1.459885e+01</td>\n",
       "      <td>0.822368</td>\n",
       "      <td>1.022588e+01</td>\n",
       "    </tr>\n",
       "    <tr>\n",
       "      <th>1</th>\n",
       "      <td>LogisticRegressionCV</td>\n",
       "      <td>0.882353</td>\n",
       "      <td>1.139908e+01</td>\n",
       "      <td>0.822368</td>\n",
       "      <td>1.018008e+01</td>\n",
       "    </tr>\n",
       "    <tr>\n",
       "      <th>2</th>\n",
       "      <td>GaussianNB</td>\n",
       "      <td>0.787582</td>\n",
       "      <td>6.770971e+21</td>\n",
       "      <td>0.796053</td>\n",
       "      <td>2.504597e+21</td>\n",
       "    </tr>\n",
       "    <tr>\n",
       "      <th>3</th>\n",
       "      <td>SVC</td>\n",
       "      <td>0.921569</td>\n",
       "      <td>1.567126e+01</td>\n",
       "      <td>0.881579</td>\n",
       "      <td>1.237564e+01</td>\n",
       "    </tr>\n",
       "    <tr>\n",
       "      <th>4</th>\n",
       "      <td>KNeighborsClassifier</td>\n",
       "      <td>0.879085</td>\n",
       "      <td>inf</td>\n",
       "      <td>0.828947</td>\n",
       "      <td>inf</td>\n",
       "    </tr>\n",
       "  </tbody>\n",
       "</table>\n",
       "</div>"
      ],
      "text/plain": [
       "                     Name  Train Accuracy  Train Perplex  Valid Accuracy  \\\n",
       "0  RandomForestClassifier        0.947712   1.459885e+01        0.822368   \n",
       "1    LogisticRegressionCV        0.882353   1.139908e+01        0.822368   \n",
       "2              GaussianNB        0.787582   6.770971e+21        0.796053   \n",
       "3                     SVC        0.921569   1.567126e+01        0.881579   \n",
       "4    KNeighborsClassifier        0.879085            inf        0.828947   \n",
       "\n",
       "   Valid Perplex  \n",
       "0   1.022588e+01  \n",
       "1   1.018008e+01  \n",
       "2   2.504597e+21  \n",
       "3   1.237564e+01  \n",
       "4            inf  "
      ]
     },
     "execution_count": 5,
     "metadata": {},
     "output_type": "execute_result"
    }
   ],
   "source": [
    "#Show results\n",
    "results.head(len(models))"
   ]
  },
  {
   "cell_type": "code",
   "execution_count": null,
   "metadata": {},
   "outputs": [],
   "source": []
  }
 ],
 "metadata": {
  "interpreter": {
   "hash": "3d23aba09bd39f2ca8f4a496e1622c5c2152a7ccfc6ac379d76aa6c7e2b4afec"
  },
  "kernelspec": {
   "display_name": "Python 3",
   "language": "python",
   "name": "python3"
  },
  "language_info": {
   "codemirror_mode": {
    "name": "ipython",
    "version": 3
   },
   "file_extension": ".py",
   "mimetype": "text/x-python",
   "name": "python",
   "nbconvert_exporter": "python",
   "pygments_lexer": "ipython3",
   "version": "3.8.8"
  }
 },
 "nbformat": 4,
 "nbformat_minor": 2
}
