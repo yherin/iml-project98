{
 "cells": [
  {
   "cell_type": "code",
   "execution_count": 1,
   "metadata": {},
   "outputs": [],
   "source": [
    "import pandas as pd\n",
    "import numpy as np\n",
    "import pickle\n",
    "from matplotlib import pyplot as plt\n",
    "from sklearn.ensemble import RandomForestClassifier\n",
    "from sklearn.linear_model import LogisticRegressionCV\n",
    "from sklearn.naive_bayes import GaussianNB\n",
    "from sklearn.svm import SVC\n",
    "from sklearn.neighbors import KNeighborsClassifier\n",
    "from sklearn.preprocessing import StandardScaler\n",
    "from sklearn.model_selection import train_test_split\n",
    "from project_utils import runModel, split_and_scale\n",
    "np.random.seed(42)"
   ]
  },
  {
   "cell_type": "code",
   "execution_count": 2,
   "metadata": {},
   "outputs": [],
   "source": [
    "#Set data for binary classification\n",
    "\n",
    "tdf = pd.read_csv('npf_train.csv')\n",
    "tdf = tdf.drop(columns=['date', 'id', 'partlybad'])\n",
    "tdf['class2'] = (tdf['class4'] == 'nonevent').astype(int)\n",
    "xdf = tdf.drop(columns=['class4', 'class2'])\n",
    "ydf = tdf['class2']\n",
    "\n"
   ]
  },
  {
   "cell_type": "code",
   "execution_count": 3,
   "metadata": {},
   "outputs": [],
   "source": [
    "#Define your model parametrs here and add them to the list\n",
    "\n",
    "rf = RandomForestClassifier(n_estimators=1000, random_state=42, class_weight={1: 0.55, 0:0.45}, min_samples_leaf=5, min_samples_split=5)\n",
    "lr = LogisticRegressionCV(max_iter=1000)\n",
    "nb = GaussianNB()\n",
    "svm = SVC(probability=True)\n",
    "knn = KNeighborsClassifier(n_neighbors=5)\n",
    "xcols = xdf.columns\n",
    "\n",
    "models = [rf, lr, nb, svm, knn]"
   ]
  },
  {
   "cell_type": "code",
   "execution_count": 4,
   "metadata": {},
   "outputs": [
    {
     "name": "stderr",
     "output_type": "stream",
     "text": [
      "/home/sjack/Studies/iml/iml-project98/project_utils.py:48: UserWarning: Model KNeighborsClassifier() could not predict probabilities\n",
      "  warn(f'Model {model} could not predict probabilities')\n"
     ]
    }
   ],
   "source": [
    "#Run the models and get the results\n",
    "\n",
    "measures = [runModel(m, *split_and_scale(xdf, ydf)) for m in models]\n",
    "results = pd.DataFrame(measures, columns=['Name', 'Train Accuracy', 'Train Perplex', 'Valid Accuracy', 'Valid Perplex'])"
   ]
  },
  {
   "cell_type": "code",
   "execution_count": 5,
   "metadata": {},
   "outputs": [
    {
     "data": {
      "text/html": [
       "<div>\n",
       "<style scoped>\n",
       "    .dataframe tbody tr th:only-of-type {\n",
       "        vertical-align: middle;\n",
       "    }\n",
       "\n",
       "    .dataframe tbody tr th {\n",
       "        vertical-align: top;\n",
       "    }\n",
       "\n",
       "    .dataframe thead th {\n",
       "        text-align: right;\n",
       "    }\n",
       "</style>\n",
       "<table border=\"1\" class=\"dataframe\">\n",
       "  <thead>\n",
       "    <tr style=\"text-align: right;\">\n",
       "      <th></th>\n",
       "      <th>Name</th>\n",
       "      <th>Train Accuracy</th>\n",
       "      <th>Train Perplex</th>\n",
       "      <th>Valid Accuracy</th>\n",
       "      <th>Valid Perplex</th>\n",
       "    </tr>\n",
       "  </thead>\n",
       "  <tbody>\n",
       "    <tr>\n",
       "      <th>0</th>\n",
       "      <td>RandomForestClassifier</td>\n",
       "      <td>0.947712</td>\n",
       "      <td>1.459885e+01</td>\n",
       "      <td>0.822368</td>\n",
       "      <td>1.022588e+01</td>\n",
       "    </tr>\n",
       "    <tr>\n",
       "      <th>1</th>\n",
       "      <td>LogisticRegressionCV</td>\n",
       "      <td>0.882353</td>\n",
       "      <td>1.139908e+01</td>\n",
       "      <td>0.822368</td>\n",
       "      <td>1.018008e+01</td>\n",
       "    </tr>\n",
       "    <tr>\n",
       "      <th>2</th>\n",
       "      <td>GaussianNB</td>\n",
       "      <td>0.787582</td>\n",
       "      <td>6.770971e+21</td>\n",
       "      <td>0.796053</td>\n",
       "      <td>2.504597e+21</td>\n",
       "    </tr>\n",
       "    <tr>\n",
       "      <th>3</th>\n",
       "      <td>SVC</td>\n",
       "      <td>0.921569</td>\n",
       "      <td>1.567126e+01</td>\n",
       "      <td>0.881579</td>\n",
       "      <td>1.237564e+01</td>\n",
       "    </tr>\n",
       "    <tr>\n",
       "      <th>4</th>\n",
       "      <td>KNeighborsClassifier</td>\n",
       "      <td>0.879085</td>\n",
       "      <td>inf</td>\n",
       "      <td>0.828947</td>\n",
       "      <td>inf</td>\n",
       "    </tr>\n",
       "  </tbody>\n",
       "</table>\n",
       "</div>"
      ],
      "text/plain": [
       "                     Name  Train Accuracy  Train Perplex  Valid Accuracy  \\\n",
       "0  RandomForestClassifier        0.947712   1.459885e+01        0.822368   \n",
       "1    LogisticRegressionCV        0.882353   1.139908e+01        0.822368   \n",
       "2              GaussianNB        0.787582   6.770971e+21        0.796053   \n",
       "3                     SVC        0.921569   1.567126e+01        0.881579   \n",
       "4    KNeighborsClassifier        0.879085            inf        0.828947   \n",
       "\n",
       "   Valid Perplex  \n",
       "0   1.022588e+01  \n",
       "1   1.018008e+01  \n",
       "2   2.504597e+21  \n",
       "3   1.237564e+01  \n",
       "4            inf  "
      ]
     },
     "execution_count": 5,
     "metadata": {},
     "output_type": "execute_result"
    }
   ],
   "source": [
    "#Show results\n",
    "results.head(len(models))"
   ]
  },
  {
   "cell_type": "code",
   "execution_count": null,
   "metadata": {},
   "outputs": [],
   "source": []
  }
 ],
 "metadata": {
  "interpreter": {
   "hash": "3d23aba09bd39f2ca8f4a496e1622c5c2152a7ccfc6ac379d76aa6c7e2b4afec"
  },
  "kernelspec": {
   "display_name": "Python 3.9.7 64-bit ('iml': conda)",
   "language": "python",
   "name": "python3"
  },
  "language_info": {
   "codemirror_mode": {
    "name": "ipython",
    "version": 3
   },
   "file_extension": ".py",
   "mimetype": "text/x-python",
   "name": "python",
   "nbconvert_exporter": "python",
   "pygments_lexer": "ipython3",
   "version": "3.9.7"
  },
  "orig_nbformat": 4
 },
 "nbformat": 4,
 "nbformat_minor": 2
}
