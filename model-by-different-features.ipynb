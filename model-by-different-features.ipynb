{
 "cells": [
  {
   "cell_type": "code",
   "execution_count": 16,
   "metadata": {},
   "outputs": [],
   "source": [
    "import pandas as pd\n",
    "import numpy as np\n",
    "import pickle\n",
    "from matplotlib import pyplot as plt\n",
    "from sklearn.ensemble import RandomForestClassifier\n",
    "from sklearn.linear_model import LogisticRegressionCV\n",
    "from sklearn.naive_bayes import GaussianNB\n",
    "from sklearn.svm import SVC\n",
    "from sklearn.neighbors import KNeighborsClassifier\n",
    "from sklearn.preprocessing import StandardScaler\n",
    "from sklearn.model_selection import train_test_split\n",
    "from project_utils import runModel, split_and_scale\n",
    "from sklearn import feature_selection\n",
    "from mlxtend.feature_selection import SequentialFeatureSelector as SFS\n",
    "from sklearn.pipeline import make_pipeline\n",
    "from sklearn.model_selection import KFold\n",
    "from mlxtend.feature_selection import SequentialFeatureSelector as SFS\n",
    "from sklearn.pipeline import make_pipeline\n",
    "from sklearn.model_selection import KFold\n",
    "import time\n",
    "np.random.seed(42)"
   ]
  },
  {
   "cell_type": "code",
   "execution_count": 17,
   "metadata": {},
   "outputs": [],
   "source": [
    "#Set data for binary classification\n",
    "\n",
    "df = pd.read_csv('npf_train.csv')\n",
    "df = df.drop(columns=['date', 'id', 'partlybad'])\n",
    "df['class2'] = (df['class4'] == 'nonevent').astype(int)\n",
    "X = df.drop(columns=['class4', 'class2'])\n",
    "#X = X[[\"CO2168.mean\", \"CO242.mean\", \"CO2504.mean\"]]\n",
    "y = df['class2']\n",
    "\n"
   ]
  },
  {
   "cell_type": "code",
   "execution_count": 18,
   "metadata": {},
   "outputs": [],
   "source": [
    "#Define your model parametrs here and add them to the list\n",
    "\n",
    "rf = RandomForestClassifier(n_estimators=50, random_state=42, class_weight={1: 0.55, 0:0.45}, min_samples_leaf=5, min_samples_split=5)\n",
    "lr = LogisticRegressionCV(max_iter=10)\n",
    "nb = GaussianNB()\n",
    "svm = SVC(probability=True)\n",
    "knn = KNeighborsClassifier(n_neighbors=5)\n",
    "#xcols = xdf.columns\n",
    "\n",
    "models = [rf, lr, nb, svm, knn]"
   ]
  },
  {
   "cell_type": "code",
   "execution_count": 19,
   "metadata": {},
   "outputs": [],
   "source": [
    "def splitAndScaleDate(X, y, split=0.33):\n",
    "    scaler = StandardScaler()\n",
    "    X_train, X_test, y_train, y_test = train_test_split(X, y, test_size=split)\n",
    "    X_train = scaler.fit_transform(X_train)\n",
    "    X_test = scaler.fit_transform(X_test)\n",
    "    return X_train, X_test, y_train, y_test"
   ]
  },
  {
   "cell_type": "code",
   "execution_count": 20,
   "metadata": {},
   "outputs": [],
   "source": [
    "def runModel(m, X_, y_):\n",
    "    time_start = time.time()\n",
    "    classifier_pipeline = make_pipeline(StandardScaler(), m)\n",
    "    \n",
    "    cv = KFold(n_splits=10, random_state=0, shuffle=False)\n",
    "    \n",
    "    sfs1 = SFS(classifier_pipeline, \n",
    "        k_features=(1, 100), \n",
    "        forward=True, \n",
    "        scoring='accuracy',\n",
    "        cv=cv,\n",
    "        n_jobs=-1\n",
    "    )\n",
    "    sfs1.fit(X_,y_)\n",
    "    time_end = time.time()\n",
    "    time_run = time_end - time_start\n",
    "    print('best combination (ACC: %.3f): %s\\n' % (sfs1.k_score_, sfs1.k_feature_idx_), time_run)\n",
    "    \n",
    "    d = {\"model\": m, \"score\": sfs1.k_score_, \"combination\": sfs1.k_feature_idx_}\n",
    "    return d"
   ]
  },
  {
   "cell_type": "code",
   "execution_count": 21,
   "metadata": {},
   "outputs": [
    {
     "name": "stderr",
     "output_type": "stream",
     "text": [
      "/Users/kukkojoo/opt/anaconda3/lib/python3.8/site-packages/sklearn/model_selection/_split.py:293: FutureWarning: Setting a random_state has no effect since shuffle is False. This will raise an error in 0.24. You should leave random_state to its default (None), or set shuffle=True.\n",
      "  warnings.warn(\n"
     ]
    },
    {
     "name": "stdout",
     "output_type": "stream",
     "text": [
      "best combination (ACC: 0.889): (3, 12, 20, 23, 29, 31, 34, 40, 43, 53, 69, 70, 77, 80, 83, 92, 96)\n",
      " 626.5888030529022\n",
      "best combination (ACC: 0.882): (0, 2, 4, 5, 6, 9, 10, 11, 12, 17, 18, 20, 25, 31, 32, 33, 39, 42, 47, 48, 49, 50, 52, 53, 54, 56, 57, 61, 62, 63, 64, 67, 69, 74, 75, 76, 79, 85, 89, 91, 94, 98)\n",
      " 848.2930130958557\n",
      "best combination (ACC: 0.865): (0, 4, 10, 11, 12, 16, 18, 48, 49, 51, 53, 54, 55, 57, 58, 69, 70, 84, 86, 98, 99)\n",
      " 18.885116815567017\n",
      "best combination (ACC: 0.898): (10, 12, 15, 17, 21, 24, 50, 67, 68, 70, 71, 80, 98, 99)\n",
      " 172.72309827804565\n",
      "best combination (ACC: 0.898): (16, 70, 71, 80, 82, 98)\n",
      " 35.30685496330261\n",
      "1701.8022410869598\n"
     ]
    },
    {
     "data": {
      "text/html": [
       "<div>\n",
       "<style scoped>\n",
       "    .dataframe tbody tr th:only-of-type {\n",
       "        vertical-align: middle;\n",
       "    }\n",
       "\n",
       "    .dataframe tbody tr th {\n",
       "        vertical-align: top;\n",
       "    }\n",
       "\n",
       "    .dataframe thead th {\n",
       "        text-align: right;\n",
       "    }\n",
       "</style>\n",
       "<table border=\"1\" class=\"dataframe\">\n",
       "  <thead>\n",
       "    <tr style=\"text-align: right;\">\n",
       "      <th></th>\n",
       "      <th>model</th>\n",
       "      <th>score</th>\n",
       "      <th>combination</th>\n",
       "    </tr>\n",
       "  </thead>\n",
       "  <tbody>\n",
       "    <tr>\n",
       "      <th>0</th>\n",
       "      <td>RandomForestClassifier(class_weight={0: 0.45, ...</td>\n",
       "      <td>0.888792</td>\n",
       "      <td>(3, 12, 20, 23, 29, 31, 34, 40, 43, 53, 69, 70...</td>\n",
       "    </tr>\n",
       "    <tr>\n",
       "      <th>1</th>\n",
       "      <td>LogisticRegressionCV(max_iter=10)</td>\n",
       "      <td>0.882271</td>\n",
       "      <td>(0, 2, 4, 5, 6, 9, 10, 11, 12, 17, 18, 20, 25,...</td>\n",
       "    </tr>\n",
       "    <tr>\n",
       "      <th>2</th>\n",
       "      <td>GaussianNB()</td>\n",
       "      <td>0.864879</td>\n",
       "      <td>(0, 4, 10, 11, 12, 16, 18, 48, 49, 51, 53, 54,...</td>\n",
       "    </tr>\n",
       "    <tr>\n",
       "      <th>3</th>\n",
       "      <td>SVC(probability=True)</td>\n",
       "      <td>0.897585</td>\n",
       "      <td>(10, 12, 15, 17, 21, 24, 50, 67, 68, 70, 71, 8...</td>\n",
       "    </tr>\n",
       "    <tr>\n",
       "      <th>4</th>\n",
       "      <td>KNeighborsClassifier()</td>\n",
       "      <td>0.897536</td>\n",
       "      <td>(16, 70, 71, 80, 82, 98)</td>\n",
       "    </tr>\n",
       "  </tbody>\n",
       "</table>\n",
       "</div>"
      ],
      "text/plain": [
       "                                               model     score  \\\n",
       "0  RandomForestClassifier(class_weight={0: 0.45, ...  0.888792   \n",
       "1                  LogisticRegressionCV(max_iter=10)  0.882271   \n",
       "2                                       GaussianNB()  0.864879   \n",
       "3                              SVC(probability=True)  0.897585   \n",
       "4                             KNeighborsClassifier()  0.897536   \n",
       "\n",
       "                                         combination  \n",
       "0  (3, 12, 20, 23, 29, 31, 34, 40, 43, 53, 69, 70...  \n",
       "1  (0, 2, 4, 5, 6, 9, 10, 11, 12, 17, 18, 20, 25,...  \n",
       "2  (0, 4, 10, 11, 12, 16, 18, 48, 49, 51, 53, 54,...  \n",
       "3  (10, 12, 15, 17, 21, 24, 50, 67, 68, 70, 71, 8...  \n",
       "4                           (16, 70, 71, 80, 82, 98)  "
      ]
     },
     "execution_count": 21,
     "metadata": {},
     "output_type": "execute_result"
    }
   ],
   "source": [
    "time_start = time.time()\n",
    "#X_train, X_test, y_train, y_test = splitAndScaleDate(X, y)\n",
    "scores = [runModel(m, X.iloc[:, 0:100], y) for m in models]\n",
    "results = pd.DataFrame(scores)\n",
    "time_end = time.time()\n",
    "print(time_end - time_start)\n",
    "results.head()"
   ]
  },
  {
   "cell_type": "markdown",
   "metadata": {},
   "source": [
    "### Time\n",
    "* 20 -> 38s\n",
    "* 30 -> 85s\n",
    "* 40 -> 155s best score: 0.856\n",
    "* 50 -> 244s best score: 0.853\n",
    "* 60 -> 358s best score: 0.856\n",
    "* 70 -> 488s best score: 0.880\n",
    "* 80 -> 644s best score: 0.884\n",
    "* 90 -> 834s best score: 0.893"
   ]
  },
  {
   "cell_type": "code",
   "execution_count": 22,
   "metadata": {},
   "outputs": [],
   "source": [
    "# 101\n",
    "#max = 0\n",
    "#best_shape = 0\n",
    "#best_model = \"\"\n",
    "#for i in range(1, 101):\n",
    "#    #print(df_.iloc[:, 0:i].shape)\n",
    "#    #print(i)\n",
    "#    X_train, X_test, y_train, y_test = splitAndScaleDate(df_.iloc[:, 0:i], y)\n",
    "#    scores = [runModel(m, X_train, X_test, y_train, y_test) for m in models]\n",
    "#    results = pd.DataFrame(scores)\n",
    "#    test_scores = results['test score'].to_numpy()\n",
    "#    \n",
    "#    if (np.amax(test_scores) > max):\n",
    "#        max = np.amax(test_scores)\n",
    "#        best_shape = df_.iloc[:, 0:i].shape\n",
    "#        \n",
    "#print(max)\n",
    "#print(best_shape)"
   ]
  },
  {
   "cell_type": "code",
   "execution_count": 152,
   "metadata": {},
   "outputs": [
    {
     "name": "stdout",
     "output_type": "stream",
     "text": [
      "(458, 100)\n"
     ]
    },
    {
     "data": {
      "text/html": [
       "<div>\n",
       "<style scoped>\n",
       "    .dataframe tbody tr th:only-of-type {\n",
       "        vertical-align: middle;\n",
       "    }\n",
       "\n",
       "    .dataframe tbody tr th {\n",
       "        vertical-align: top;\n",
       "    }\n",
       "\n",
       "    .dataframe thead th {\n",
       "        text-align: right;\n",
       "    }\n",
       "</style>\n",
       "<table border=\"1\" class=\"dataframe\">\n",
       "  <thead>\n",
       "    <tr style=\"text-align: right;\">\n",
       "      <th></th>\n",
       "      <th>model</th>\n",
       "      <th>train score</th>\n",
       "      <th>test score</th>\n",
       "    </tr>\n",
       "  </thead>\n",
       "  <tbody>\n",
       "    <tr>\n",
       "      <th>0</th>\n",
       "      <td>(DecisionTreeClassifier(max_features='auto', m...</td>\n",
       "      <td>0.944444</td>\n",
       "      <td>0.855263</td>\n",
       "    </tr>\n",
       "    <tr>\n",
       "      <th>1</th>\n",
       "      <td>LogisticRegressionCV(max_iter=1000)</td>\n",
       "      <td>0.918301</td>\n",
       "      <td>0.815789</td>\n",
       "    </tr>\n",
       "    <tr>\n",
       "      <th>2</th>\n",
       "      <td>GaussianNB()</td>\n",
       "      <td>0.810458</td>\n",
       "      <td>0.763158</td>\n",
       "    </tr>\n",
       "    <tr>\n",
       "      <th>3</th>\n",
       "      <td>SVC(probability=True)</td>\n",
       "      <td>0.921569</td>\n",
       "      <td>0.835526</td>\n",
       "    </tr>\n",
       "    <tr>\n",
       "      <th>4</th>\n",
       "      <td>KNeighborsClassifier()</td>\n",
       "      <td>0.911765</td>\n",
       "      <td>0.815789</td>\n",
       "    </tr>\n",
       "  </tbody>\n",
       "</table>\n",
       "</div>"
      ],
      "text/plain": [
       "                                               model  train score  test score\n",
       "0  (DecisionTreeClassifier(max_features='auto', m...     0.944444    0.855263\n",
       "1                LogisticRegressionCV(max_iter=1000)     0.918301    0.815789\n",
       "2                                       GaussianNB()     0.810458    0.763158\n",
       "3                              SVC(probability=True)     0.921569    0.835526\n",
       "4                             KNeighborsClassifier()     0.911765    0.815789"
      ]
     },
     "execution_count": 152,
     "metadata": {},
     "output_type": "execute_result"
    }
   ],
   "source": [
    "print(df_.iloc[:, 0:101].shape)\n",
    "X_train, X_test, y_train, y_test = splitAndScaleDate(df_.iloc[:, 0:101], y)\n",
    "scores = [runModel(m, X_train, X_test, y_train, y_test) for m in models]\n",
    "results = pd.DataFrame(scores)\n",
    "results.head()"
   ]
  },
  {
   "cell_type": "code",
   "execution_count": 167,
   "metadata": {},
   "outputs": [],
   "source": []
  },
  {
   "cell_type": "code",
   "execution_count": 168,
   "metadata": {},
   "outputs": [
    {
     "name": "stderr",
     "output_type": "stream",
     "text": [
      "/Users/kukkojoo/opt/anaconda3/lib/python3.8/site-packages/sklearn/model_selection/_split.py:293: FutureWarning: Setting a random_state has no effect since shuffle is False. This will raise an error in 0.24. You should leave random_state to its default (None), or set shuffle=True.\n",
      "  warnings.warn(\n"
     ]
    }
   ],
   "source": [
    "classifier_pipeline = make_pipeline(StandardScaler(), svm)\n",
    "cv = KFold(n_splits=10, random_state=0, shuffle=False)"
   ]
  },
  {
   "cell_type": "code",
   "execution_count": 227,
   "metadata": {},
   "outputs": [],
   "source": [
    "sfs1 = SFS(classifier_pipeline, \n",
    "           k_features=(1, 20), \n",
    "           forward=True, \n",
    "           scoring='accuracy',\n",
    "           cv=cv\n",
    "          )"
   ]
  },
  {
   "cell_type": "code",
   "execution_count": 228,
   "metadata": {},
   "outputs": [],
   "source": []
  },
  {
   "cell_type": "code",
   "execution_count": 229,
   "metadata": {},
   "outputs": [
    {
     "name": "stdout",
     "output_type": "stream",
     "text": [
      "17.101253986358643\n"
     ]
    }
   ],
   "source": [
    "time_start = time.time()\n",
    "sfs1.fit(df_.iloc[:, 0:[10, 12, 15, 17, 21, 24, 50, 67, 68, 70, 71, 80, 98, 99]],y)\n",
    "time_end = time.time()\n",
    "print(time_end - time_start)"
   ]
  },
  {
   "cell_type": "code",
   "execution_count": 217,
   "metadata": {},
   "outputs": [
    {
     "data": {
      "text/plain": [
       "{1: {'feature_idx': (0,),\n",
       "  'cv_scores': array([0.47826087, 0.7173913 , 0.63043478, 0.67391304, 0.45652174,\n",
       "         0.67391304, 0.58695652, 0.41304348, 0.73333333, 0.48888889]),\n",
       "  'avg_score': 0.5852657004830918,\n",
       "  'feature_names': ('CO2168.mean',)},\n",
       " 2: {'feature_idx': (0, 3),\n",
       "  'cv_scores': array([0.5       , 0.69565217, 0.67391304, 0.65217391, 0.47826087,\n",
       "         0.7173913 , 0.63043478, 0.63043478, 0.8       , 0.6       ]),\n",
       "  'avg_score': 0.6378260869565217,\n",
       "  'feature_names': ('CO2168.mean', 'CO2336.std')},\n",
       " 3: {'feature_idx': (0, 2, 3),\n",
       "  'cv_scores': array([0.52173913, 0.7173913 , 0.67391304, 0.63043478, 0.45652174,\n",
       "         0.73913043, 0.65217391, 0.58695652, 0.77777778, 0.6       ]),\n",
       "  'avg_score': 0.6356038647342995,\n",
       "  'feature_names': ('CO2168.mean', 'CO2336.mean', 'CO2336.std')},\n",
       " 4: {'feature_idx': (0, 1, 2, 3),\n",
       "  'cv_scores': array([0.5       , 0.67391304, 0.67391304, 0.65217391, 0.47826087,\n",
       "         0.67391304, 0.58695652, 0.63043478, 0.77777778, 0.6       ]),\n",
       "  'avg_score': 0.6247342995169082,\n",
       "  'feature_names': ('CO2168.mean', 'CO2168.std', 'CO2336.mean', 'CO2336.std')},\n",
       " 5: {'feature_idx': (0, 1, 2, 3, 4),\n",
       "  'cv_scores': array([0.5       , 0.69565217, 0.67391304, 0.65217391, 0.45652174,\n",
       "         0.7173913 , 0.63043478, 0.60869565, 0.77777778, 0.6       ]),\n",
       "  'avg_score': 0.6312560386473429,\n",
       "  'feature_names': ('CO2168.mean',\n",
       "   'CO2168.std',\n",
       "   'CO2336.mean',\n",
       "   'CO2336.std',\n",
       "   'CO242.mean')}}"
      ]
     },
     "execution_count": 217,
     "metadata": {},
     "output_type": "execute_result"
    }
   ],
   "source": [
    "sfs1.subsets_"
   ]
  },
  {
   "cell_type": "code",
   "execution_count": 199,
   "metadata": {},
   "outputs": [
    {
     "name": "stdout",
     "output_type": "stream",
     "text": [
      "best combination (ACC: 0.898): (10, 12, 15, 17, 21, 24, 50, 67, 68, 70, 71, 80, 98, 99)\n",
      "\n"
     ]
    }
   ],
   "source": [
    "print('best combination (ACC: %.3f): %s\\n' % (sfs1.k_score_, sfs1.k_feature_idx_))"
   ]
  },
  {
   "cell_type": "code",
   "execution_count": 24,
   "metadata": {},
   "outputs": [],
   "source": [
    "x_t = df.iloc[:, [10, 12, 15, 17, 21, 24, 50, 67, 68, 70, 71, 80, 98, 99]]"
   ]
  },
  {
   "cell_type": "code",
   "execution_count": 33,
   "metadata": {},
   "outputs": [],
   "source": [
    "s = SVC(probability=True)\n",
    "X_train, X_test, y_train, y_test = splitAndScaleDate(x_t, y)"
   ]
  },
  {
   "cell_type": "code",
   "execution_count": 34,
   "metadata": {},
   "outputs": [
    {
     "data": {
      "text/plain": [
       "SVC(probability=True)"
      ]
     },
     "execution_count": 34,
     "metadata": {},
     "output_type": "execute_result"
    }
   ],
   "source": [
    "s.fit (X_train, y_train)"
   ]
  },
  {
   "cell_type": "code",
   "execution_count": 35,
   "metadata": {},
   "outputs": [
    {
     "data": {
      "text/plain": [
       "0.8921568627450981"
      ]
     },
     "execution_count": 35,
     "metadata": {},
     "output_type": "execute_result"
    }
   ],
   "source": [
    "s.score(X_train, y_train)"
   ]
  },
  {
   "cell_type": "code",
   "execution_count": 36,
   "metadata": {},
   "outputs": [
    {
     "data": {
      "text/plain": [
       "0.875"
      ]
     },
     "execution_count": 36,
     "metadata": {},
     "output_type": "execute_result"
    }
   ],
   "source": [
    "s.score(X_test, y_test)"
   ]
  },
  {
   "cell_type": "code",
   "execution_count": null,
   "metadata": {},
   "outputs": [],
   "source": []
  }
 ],
 "metadata": {
  "kernelspec": {
   "display_name": "Python 3",
   "language": "python",
   "name": "python3"
  },
  "language_info": {
   "codemirror_mode": {
    "name": "ipython",
    "version": 3
   },
   "file_extension": ".py",
   "mimetype": "text/x-python",
   "name": "python",
   "nbconvert_exporter": "python",
   "pygments_lexer": "ipython3",
   "version": "3.8.5"
  }
 },
 "nbformat": 4,
 "nbformat_minor": 4
}
