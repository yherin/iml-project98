{
 "cells": [
  {
   "cell_type": "code",
   "execution_count": 1,
   "metadata": {},
   "outputs": [],
   "source": [
    "import project_utils\n",
    "from __future__ import annotations\n",
    "import pandas as pd\n",
    "import pickle\n",
    "import project_utils\n",
    "from sklearn.base import ClassifierMixin\n",
    "import numpy as np\n",
    "from typing import Tuple\n",
    "from pandas import DataFrame\n",
    "import csv_maker\n",
    "#pd.set_option('display.max_columns', None)\n",
    "#pd.set_option('display.expand_frame_repr', False)\n",
    "#pd.set_option('max_colwidth', None)\n",
    "import time\n",
    "import os\n",
    "from sklearn.ensemble import RandomForestClassifier\n",
    "from sklearn.linear_model import LogisticRegression\n",
    "from sklearn.naive_bayes import GaussianNB, MultinomialNB\n",
    "from sklearn.svm import SVC\n",
    "from sklearn.neighbors import KNeighborsClassifier\n",
    "from sklearn.preprocessing import StandardScaler, MinMaxScaler\n",
    "from sklearn.model_selection import train_test_split\n",
    "from scipy.stats import uniform\n",
    "np.random.seed(42)\n",
    "\n"
   ]
  },
  {
   "cell_type": "code",
   "execution_count": 2,
   "metadata": {},
   "outputs": [
    {
     "name": "stdout",
     "output_type": "stream",
     "text": [
      "('CO2168.mean', 'CO2336.mean', 'CO242.mean', 'Glob.mean', 'H2O42.mean', 'H2O672.mean', 'H2O84.std', 'NET.std', 'NO168.mean', 'NO168.std', 'NO504.mean', 'NO672.mean', 'NO672.std', 'NO84.mean', 'NOx42.std', 'NOx504.mean', 'PAR.mean', 'RHIRGA168.mean', 'SO2168.mean', 'T168.mean', 'T42.mean', 'T672.mean', 'UV_A.mean')\n"
     ]
    }
   ],
   "source": [
    "#load the pre-selected features from stepwise\n",
    "sfs = pickle.load(open('stepwise_selected_features.pickle', 'rb'))\n",
    "print(sfs.k_feature_names_)\n"
   ]
  },
  {
   "cell_type": "code",
   "execution_count": 3,
   "metadata": {},
   "outputs": [],
   "source": [
    "#setup training data\n",
    "_x, y, enc = project_utils.Read_data_output_class4()\n",
    "_x = project_utils.scaling(_x)\n",
    "x_step = _x[:,sfs.k_feature_idx_]\n",
    "x_pca, pca_encoder = project_utils.training_with_PCA(_x,15)"
   ]
  },
  {
   "cell_type": "code",
   "execution_count": 4,
   "metadata": {},
   "outputs": [],
   "source": [
    "#run models\n",
    "adjusted_weights = {0: 0.24, 1: 0.05, 2: 0.16, 3: 0.55}\n",
    "\n",
    "c = np.linspace(0,50,100)\n",
    "l1 = np.linspace(0,1,100)\n",
    "rf = RandomForestClassifier()\n",
    "#rf_params = dict(min_samples_split=[2,3,4,5,6], min_samples_leaf=[1,2,3,4,5,6], class_weight=[adjusted_weights])\n",
    "rf_params = dict(min_samples_split=[2,3,4,5,6], min_samples_leaf=[2,3,4,5,6], class_weight=[adjusted_weights])\n",
    "\n",
    "lr = LogisticRegression(max_iter=1000)\n",
    "lr_params = dict( penalty=['l2'], solver=['lbfgs', 'newton-cg', 'sag'], class_weight=[adjusted_weights], multi_class=['multinomial'])\n",
    "\n",
    "lre = LogisticRegression(max_iter=1000)\n",
    "lre_params = dict( l1_ratio=l1, penalty=['elasticnet', 'l1', 'l2'], solver=['saga'], class_weight=[adjusted_weights], multi_class=['multinomial'])\n",
    "\n",
    "nb = GaussianNB(priors=np.array([0.24, 0.05, 0.16, 0.55]))\n",
    "nb_params = dict()\n",
    "\n",
    "svm = SVC()\n",
    "svm_params = dict(kernel=['sigmoid', 'rbf', 'poly'], degree=[2,3], class_weight=[adjusted_weights], probability=[True], decision_function_shape=['ovo', 'ovr'])\n",
    "#svm_params = dict(C=c,  kernel=['sigmoid', 'rbf', 'poly'], class_weight=[adjusted_weights], probability=[True])\n",
    "\n",
    "\n",
    "models = [rf,  lre,  nb, svm]\n",
    "model_params = [rf_params, lre_params, nb_params, svm_params]\n",
    "\n",
    "\n",
    "model_dict = {}\n",
    "model_results = None\n",
    "for m, mp in zip(models, model_params):\n",
    "    results, md = project_utils.runModelCV(model=m, model_params=mp, x=x_step, y=y, strategy='stepwise', n_iterations=5, k_folds=5)\n",
    "    if model_results is None:\n",
    "        model_results = results\n",
    "    else:\n",
    "        model_results = pd.concat([model_results, results])\n",
    "    model_dict.update(md)\n",
    "for m, mp in zip(models, model_params):\n",
    "    results, md = project_utils.runModelCV(model=m, model_params=mp, x=x_pca, strategy='pca', y=y, n_iterations=5, k_folds=5)\n",
    "    if model_results is None:\n",
    "        model_results = results\n",
    "    else:\n",
    "        model_results = pd.concat([model_results, results])\n",
    "    model_dict.update(md)"
   ]
  },
  {
   "cell_type": "code",
   "execution_count": null,
   "metadata": {},
   "outputs": [],
   "source": [
    "#make testing data from the real set\n",
    "_test_x, test_y, _enc = project_utils.Read_data_output_class4('npf_test.csv')\n",
    "_test_x = project_utils.scaling(_test_x)\n",
    "test_x_step = _test_x[:,sfs.k_feature_idx_]\n",
    "test_x_pca = pca_encoder.fit_transform(_test_x)"
   ]
  },
  {
   "cell_type": "code",
   "execution_count": null,
   "metadata": {},
   "outputs": [],
   "source": [
    "#do final evaluation\n",
    "names = []\n",
    "ids = []\n",
    "accuracy = []\n",
    "strat = []\n",
    "for modelName in model_dict.keys():\n",
    "    if  model_results.loc[modelName, 'Features'] == 'pca':\n",
    "        accuracy.append(model_dict[modelName].score(X=test_x_pca, y=test_y))\n",
    "        strat.append('pca')\n",
    "    else:\n",
    "        accuracy.append(model_dict[modelName].score(X=test_x_step, y=test_y))\n",
    "        strat.append('stepwise')\n",
    "    na, uid = modelName.split('--')\n",
    "    names.append(na)\n",
    "    ids.append(uid)\n",
    "dftest = pd.DataFrame({'model':names, 'Features': strat, 'accuracy': accuracy}, index=ids)"
   ]
  },
  {
   "cell_type": "code",
   "execution_count": null,
   "metadata": {},
   "outputs": [],
   "source": [
    "dftest.sort_values('accuracy', ascending=False).head(5)"
   ]
  },
  {
   "cell_type": "code",
   "execution_count": null,
   "metadata": {},
   "outputs": [],
   "source": [
    "dftest.groupby(['model', 'Features']).max()"
   ]
  },
  {
   "cell_type": "code",
   "execution_count": null,
   "metadata": {},
   "outputs": [],
   "source": [
    "dftest.groupby(['model', 'Features']).min()"
   ]
  },
  {
   "cell_type": "code",
   "execution_count": null,
   "metadata": {},
   "outputs": [],
   "source": [
    "dftest.groupby(['model', 'Features']).mean()"
   ]
  },
  {
   "cell_type": "code",
   "execution_count": null,
   "metadata": {},
   "outputs": [],
   "source": [
    "dftest.sort_values('accuracy', ascending=False).head()"
   ]
  },
  {
   "cell_type": "code",
   "execution_count": null,
   "metadata": {},
   "outputs": [],
   "source": [
    "#format like this to inspect an individual model\n",
    "bestModel = model_dict[f'RandomForestClassifier--135540-19']"
   ]
  },
  {
   "cell_type": "code",
   "execution_count": null,
   "metadata": {},
   "outputs": [],
   "source": [
    "bestModel.get_params()"
   ]
  }
 ],
 "metadata": {
  "interpreter": {
   "hash": "3d23aba09bd39f2ca8f4a496e1622c5c2152a7ccfc6ac379d76aa6c7e2b4afec"
  },
  "kernelspec": {
   "display_name": "Python 3.9.7 64-bit ('iml': conda)",
   "language": "python",
   "name": "python3"
  },
  "language_info": {
   "codemirror_mode": {
    "name": "ipython",
    "version": 3
   },
   "file_extension": ".py",
   "mimetype": "text/x-python",
   "name": "python",
   "nbconvert_exporter": "python",
   "pygments_lexer": "ipython3",
   "version": "3.9.7"
  },
  "orig_nbformat": 4
 },
 "nbformat": 4,
 "nbformat_minor": 2
}
